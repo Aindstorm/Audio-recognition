{
 "cells": [
  {
   "cell_type": "code",
   "execution_count": 32,
   "metadata": {},
   "outputs": [],
   "source": [
    "from scipy.io import wavfile\n",
    "import pandas as pd\n",
    "import matplotlib.pyplot as plt\n",
    "import numpy as np\n",
    "from keras.layers import Conv1D, MaxPool1D, GlobalMaxPooling1D, Dropout, Dense\n",
    "from keras.layers import Conv2D, MaxPool2D, Flatten\n",
    "from keras.models import Sequential\n",
    "from keras.utils import to_categorical\n",
    "from sklearn.utils.class_weight import compute_class_weight\n",
    "from sklearn.preprocessing import MinMaxScaler\n",
    "from tqdm import tqdm\n",
    "from python_speech_features import mfcc"
   ]
  },
  {
   "cell_type": "code",
   "execution_count": 53,
   "metadata": {},
   "outputs": [],
   "source": [
    "def build_mfcc(config, df, path='clean/'):\n",
    "    'builds 64 mfcc features (64x9)'\n",
    "    c = config\n",
    "    X = []\n",
    "    y = []\n",
    "    _min, _max = float('inf'), float('-inf')\n",
    "    for f in tqdm(df.index):\n",
    "        rate, wav = wavfile.read(path+f)\n",
    "        wav = wav.sum(axis=1)\n",
    "        wav = wav.astype(float)\n",
    "        label = df.at[f, 'label']\n",
    "        step = c.step\n",
    "        for i in range(0, len(wav), step):\n",
    "            partition = i+step\n",
    "            if step > wav.shape[0]:\n",
    "                signal = np.zeros((step, 1))\n",
    "                signal[:wav.shape[0], :] = wav.reshape(-1, 1)\n",
    "                X_mfcc = mfcc(signal, rate,\n",
    "                                   numcep=c.nfeat, nfilt=c.nfeat, nfft=c.nfft).T\n",
    "            elif partition > len(wav):\n",
    "                X_mfcc = mfcc(wav[-step:], rate,\n",
    "                                   numcep=c.nfeat, nfilt=c.nfeat, nfft=c.nfft).T\n",
    "            else:\n",
    "                X_mfcc = mfcc(wav[i:i+step], rate,\n",
    "                                   numcep=c.nfeat, nfilt=c.nfeat, nfft=c.nfft).T\n",
    "            _min = min(np.amin(X_mfcc), _min)\n",
    "            _max = max(np.amax(X_mfcc), _max)\n",
    "            X.append(X_mfcc)\n",
    "            y.append(classes.index(label))\n",
    "    X, y = np.array(X), np.array(y)\n",
    "    X = (X - _min) / (_max - _min)\n",
    "    print(_min, _max)\n",
    "    X = X.reshape(X.shape[0], X.shape[1], X.shape[2], 1)\n",
    "    y = to_categorical(y, num_classes=2)\n",
    "    return X, y"
   ]
  },
  {
   "cell_type": "code",
   "execution_count": 34,
   "metadata": {},
   "outputs": [],
   "source": [
    "def build_1d(config):\n",
    "    'builds 1d data simply to show 1d convolutions are possible'\n",
    "    c = config\n",
    "    X = []\n",
    "    y = []\n",
    "    for f in df.index:\n",
    "        rate, wav = wavfile.read('clean/'+f)\n",
    "        label = df.at[f, 'label']\n",
    "        step = c.step\n",
    "        for i in range(0, len(wav), step):\n",
    "            partition = i+step\n",
    "            if step > wav.shape[0]:\n",
    "                signal = np.zeros((step, 1))\n",
    "                signal[:wav.shape[0], :] = wav\n",
    "            elif partition > len(wav):\n",
    "                signal = wav[-step:]\n",
    "            else:\n",
    "                signal = wav[i:i+step]\n",
    "            X.append(signal)\n",
    "            y.append(classes.index(label))\n",
    "    X, y = np.array(X), np.array(y)\n",
    "    mms = MinMaxScaler()\n",
    "    X = mms.fit_transform(X)\n",
    "    X = X.reshape(X.shape[0], X.shape[1], 1)\n",
    "    y = to_categorical(y, num_classes=10)\n",
    "    return X, y"
   ]
  },
  {
   "cell_type": "code",
   "execution_count": 35,
   "metadata": {},
   "outputs": [],
   "source": [
    "def get_1d_model():\n",
    "    model = Sequential()\n",
    "    model.add(Conv1D(16, 9, activation='relu', padding='same',\n",
    "                     input_shape=input_shape))\n",
    "    model.add(Conv1D(16, 9, activation='relu', padding='same'))\n",
    "    model.add(MaxPool1D(16))\n",
    "    model.add(Dropout(rate=0.1))\n",
    "    model.add(Conv1D(32, 3, activation='relu', padding='same'))\n",
    "    model.add(Conv1D(32, 3, activation='relu', padding='same'))\n",
    "    model.add(MaxPool1D(4))\n",
    "    model.add(Dropout(rate=0.1))\n",
    "    model.add(Conv1D(64, 3, activation='relu', padding='same'))\n",
    "    model.add(Conv1D(64, 3, activation='relu', padding='same'))\n",
    "    model.add(MaxPool1D(4))\n",
    "    model.add(Dropout(rate=0.1))\n",
    "    model.add(Conv1D(128, 3, activation='relu', padding='same'))\n",
    "    model.add(Conv1D(128, 3, activation='relu', padding='same'))\n",
    "    model.add(GlobalMaxPooling1D())\n",
    "    model.add(Dropout(rate=0.2))\n",
    "    model.add(Dense(64, activation='relu'))\n",
    "    model.add(Dense(10, activation='softmax'))\n",
    "    model.summary()\n",
    "    model.compile(loss='categorical_crossentropy',\n",
    "                  optimizer='adam',\n",
    "                  metrics=['acc'])\n",
    "    return model"
   ]
  },
  {
   "cell_type": "code",
   "execution_count": 45,
   "metadata": {},
   "outputs": [],
   "source": [
    "def get_2d_model():\n",
    "    model = Sequential()\n",
    "    model.add(Conv2D(16, (5, 5), activation='relu', strides=(2, 2),\n",
    "                     padding='same', input_shape=input_shape))\n",
    "    model.add(Conv2D(32, (3, 3), activation='relu', strides=(1, 1),\n",
    "                     padding='same'))\n",
    "    model.add(Conv2D(64, (3, 3), activation='relu', strides=(1, 1),\n",
    "                     padding='same'))\n",
    "    model.add(MaxPool2D((2,2)))\n",
    "    model.add(Dropout(0.5))\n",
    "    model.add(Flatten())\n",
    "    model.add(Dense(64, activation='relu'))\n",
    "    model.add(Dense(2, activation='sigmoid'))\n",
    "    model.summary()\n",
    "    model.compile(loss='categorical_crossentropy',\n",
    "                  optimizer='adam',\n",
    "                  metrics=['acc'])\n",
    "    return model"
   ]
  },
  {
   "cell_type": "code",
   "execution_count": 37,
   "metadata": {},
   "outputs": [],
   "source": [
    "class Config:\n",
    "    def __init__(self, mode='two', nfeat=64, nfft=1103, rate=44100):\n",
    "        self.mode = mode\n",
    "        self.nfeat = nfeat\n",
    "        self.nfft = nfft\n",
    "        self.rate = rate\n",
    "        self.step = int(rate/10)"
   ]
  },
  {
   "cell_type": "code",
   "execution_count": null,
   "metadata": {},
   "outputs": [],
   "source": []
  },
  {
   "cell_type": "code",
   "execution_count": 38,
   "metadata": {},
   "outputs": [],
   "source": [
    "df = pd.read_csv('sounds.csv', header=None)\n",
    "df.rename(columns={0: \"fname\", 1: \"label\"}, inplace=True)\n",
    "df.set_index('fname', inplace=True)"
   ]
  },
  {
   "cell_type": "code",
   "execution_count": 39,
   "metadata": {},
   "outputs": [
    {
     "data": {
      "image/png": "[encoded data removed]",
      "text/plain": [
       "<Figure size 432x288 with 1 Axes>"
      ]
     },
     "metadata": {},
     "output_type": "display_data"
    }
   ],
   "source": [
    "for f in df.index:\n",
    "    rate, signal = wavfile.read('clean/'+f)\n",
    "    signal = signal.sum(axis=1)\n",
    "    df.at[f, 'length'] = signal.shape[0]/rate\n",
    "\n",
    "classes = list(np.unique(df.label))\n",
    "class_dist = df.groupby(['label'])['length'].mean()\n",
    "\n",
    "fig, ax = plt.subplots()\n",
    "ax.set_title('Class Distribution', y=1.08)\n",
    "ax.pie(class_dist, labels=class_dist.index, autopct='%1.1f%%',\n",
    "       shadow=False, startangle=90)\n",
    "ax.axis('equal')\n",
    "plt.show()"
   ]
  },
  {
   "cell_type": "code",
   "execution_count": 40,
   "metadata": {},
   "outputs": [],
   "source": [
    "config = Config(mode='two', nfeat=64, nfft=1103, rate=44100)"
   ]
  },
  {
   "cell_type": "code",
   "execution_count": 54,
   "metadata": {},
   "outputs": [
    {
     "name": "stderr",
     "output_type": "stream",
     "text": [
      "100%|██████████| 242/242 [00:51<00:00,  4.63it/s]\n"
     ]
    },
    {
     "name": "stdout",
     "output_type": "stream",
     "text": [
      "-193.80485258273006 134.46716346352255\n",
      "_________________________________________________________________\n",
      "Layer (type)                 Output Shape              Param #   \n",
      "=================================================================\n",
      "conv2d_10 (Conv2D)           (None, 32, 5, 16)         416       \n",
      "_________________________________________________________________\n",
      "conv2d_11 (Conv2D)           (None, 32, 5, 32)         4640      \n",
      "_________________________________________________________________\n",
      "conv2d_12 (Conv2D)           (None, 32, 5, 64)         18496     \n",
      "_________________________________________________________________\n",
      "max_pooling2d_4 (MaxPooling2 (None, 16, 2, 64)         0         \n",
      "_________________________________________________________________\n",
      "dropout_4 (Dropout)          (None, 16, 2, 64)         0         \n",
      "_________________________________________________________________\n",
      "flatten_4 (Flatten)          (None, 2048)              0         \n",
      "_________________________________________________________________\n",
      "dense_7 (Dense)              (None, 64)                131136    \n",
      "_________________________________________________________________\n",
      "dense_8 (Dense)              (None, 2)                 130       \n",
      "=================================================================\n",
      "Total params: 154,818\n",
      "Trainable params: 154,818\n",
      "Non-trainable params: 0\n",
      "_________________________________________________________________\n"
     ]
    }
   ],
   "source": [
    "if config.mode == 'one':\n",
    "    X, y = build_1d(config)\n",
    "    y_flat = np.argmax(y, axis=1)\n",
    "    input_shape = (X.shape[1], 1)\n",
    "    model = get_1d_model()\n",
    "    \n",
    "elif config.mode == 'two':\n",
    "    X, y = build_mfcc(config, df)\n",
    "    y_flat = np.argmax(y, axis=1)\n",
    "    input_shape = (X.shape[1], X.shape[2], 1)\n",
    "    model = get_2d_model()"
   ]
  },
  {
   "cell_type": "code",
   "execution_count": 42,
   "metadata": {},
   "outputs": [
    {
     "name": "stdout",
     "output_type": "stream",
     "text": [
      "(64, 9, 1)\n"
     ]
    }
   ],
   "source": [
    "print(input_shape)"
   ]
  },
  {
   "cell_type": "code",
   "execution_count": 43,
   "metadata": {},
   "outputs": [],
   "source": [
    "class_weight = compute_class_weight('balanced',\n",
    "                                     np.unique(y_flat),\n",
    "                                     y_flat)"
   ]
  },
  {
   "cell_type": "code",
   "execution_count": 47,
   "metadata": {},
   "outputs": [
    {
     "name": "stderr",
     "output_type": "stream",
     "text": [
      "W0804 12:13:54.442294  3412 deprecation.py:323] From D:\\Games\\Anaconda3\\lib\\site-packages\\tensorflow\\python\\ops\\math_grad.py:1250: add_dispatch_support.<locals>.wrapper (from tensorflow.python.ops.array_ops) is deprecated and will be removed in a future version.\n",
      "Instructions for updating:\n",
      "Use tf.where in 2.0, which has the same broadcast rule as np.where\n"
     ]
    },
    {
     "name": "stdout",
     "output_type": "stream",
     "text": [
      "Epoch 1/2\n"
     ]
    },
    {
     "name": "stdout",
     "output_type": "stream",
     "text": [
      "16256/23070 [====================>.........] - ETA: 5:40 - loss: 0.6934 - acc: 0.531 - ETA: 1:37 - loss: 0.6966 - acc: 0.453 - ETA: 1:02 - loss: 0.6955 - acc: 0.477 - ETA: 48s - loss: 0.6948 - acc: 0.493 - ETA: 40s - loss: 0.6935 - acc: 0.51 - ETA: 37s - loss: 0.6928 - acc: 0.52 - ETA: 33s - loss: 0.6925 - acc: 0.51 - ETA: 31s - loss: 0.6906 - acc: 0.53 - ETA: 29s - loss: 0.6894 - acc: 0.53 - ETA: 28s - loss: 0.6884 - acc: 0.53 - ETA: 28s - loss: 0.6878 - acc: 0.53 - ETA: 27s - loss: 0.6871 - acc: 0.53 - ETA: 26s - loss: 0.6851 - acc: 0.53 - ETA: 26s - loss: 0.6836 - acc: 0.53 - ETA: 25s - loss: 0.6815 - acc: 0.54 - ETA: 25s - loss: 0.6780 - acc: 0.55 - ETA: 24s - loss: 0.6690 - acc: 0.57 - ETA: 23s - loss: 0.6614 - acc: 0.59 - ETA: 23s - loss: 0.6592 - acc: 0.59 - ETA: 23s - loss: 0.6498 - acc: 0.60 - ETA: 23s - loss: 0.6501 - acc: 0.60 - ETA: 22s - loss: 0.6365 - acc: 0.61 - ETA: 22s - loss: 0.6293 - acc: 0.62 - ETA: 22s - loss: 0.6197 - acc: 0.63 - ETA: 22s - loss: 0.6152 - acc: 0.64 - ETA: 21s - loss: 0.6089 - acc: 0.64 - ETA: 21s - loss: 0.6000 - acc: 0.65 - ETA: 21s - loss: 0.5913 - acc: 0.66 - ETA: 21s - loss: 0.5750 - acc: 0.67 - ETA: 20s - loss: 0.5663 - acc: 0.68 - ETA: 20s - loss: 0.5580 - acc: 0.68 - ETA: 20s - loss: 0.5461 - acc: 0.69 - ETA: 20s - loss: 0.5401 - acc: 0.69 - ETA: 20s - loss: 0.5338 - acc: 0.70 - ETA: 19s - loss: 0.5212 - acc: 0.71 - ETA: 19s - loss: 0.5140 - acc: 0.71 - ETA: 19s - loss: 0.5040 - acc: 0.72 - ETA: 19s - loss: 0.4924 - acc: 0.73 - ETA: 18s - loss: 0.4865 - acc: 0.73 - ETA: 18s - loss: 0.4760 - acc: 0.74 - ETA: 18s - loss: 0.4699 - acc: 0.74 - ETA: 18s - loss: 0.4639 - acc: 0.75 - ETA: 18s - loss: 0.4542 - acc: 0.75 - ETA: 17s - loss: 0.4430 - acc: 0.76 - ETA: 17s - loss: 0.4373 - acc: 0.76 - ETA: 17s - loss: 0.4310 - acc: 0.77 - ETA: 17s - loss: 0.4234 - acc: 0.77 - ETA: 17s - loss: 0.4174 - acc: 0.78 - ETA: 17s - loss: 0.4113 - acc: 0.78 - ETA: 17s - loss: 0.4077 - acc: 0.78 - ETA: 17s - loss: 0.4038 - acc: 0.78 - ETA: 17s - loss: 0.3986 - acc: 0.79 - ETA: 17s - loss: 0.3936 - acc: 0.79 - ETA: 16s - loss: 0.3893 - acc: 0.79 - ETA: 16s - loss: 0.3855 - acc: 0.79 - ETA: 16s - loss: 0.3794 - acc: 0.80 - ETA: 16s - loss: 0.3763 - acc: 0.80 - ETA: 16s - loss: 0.3720 - acc: 0.80 - ETA: 16s - loss: 0.3683 - acc: 0.81 - ETA: 16s - loss: 0.3616 - acc: 0.81 - ETA: 16s - loss: 0.3591 - acc: 0.81 - ETA: 16s - loss: 0.3559 - acc: 0.81 - ETA: 16s - loss: 0.3534 - acc: 0.81 - ETA: 16s - loss: 0.3506 - acc: 0.82 - ETA: 15s - loss: 0.3464 - acc: 0.82 - ETA: 15s - loss: 0.3427 - acc: 0.82 - ETA: 15s - loss: 0.3375 - acc: 0.82 - ETA: 15s - loss: 0.3335 - acc: 0.83 - ETA: 15s - loss: 0.3326 - acc: 0.83 - ETA: 15s - loss: 0.3282 - acc: 0.83 - ETA: 15s - loss: 0.3259 - acc: 0.83 - ETA: 15s - loss: 0.3223 - acc: 0.83 - ETA: 15s - loss: 0.3186 - acc: 0.84 - ETA: 15s - loss: 0.3139 - acc: 0.84 - ETA: 14s - loss: 0.3104 - acc: 0.84 - ETA: 14s - loss: 0.3068 - acc: 0.84 - ETA: 14s - loss: 0.3025 - acc: 0.84 - ETA: 14s - loss: 0.2996 - acc: 0.85 - ETA: 14s - loss: 0.2962 - acc: 0.85 - ETA: 14s - loss: 0.2933 - acc: 0.85 - ETA: 14s - loss: 0.2892 - acc: 0.85 - ETA: 14s - loss: 0.2859 - acc: 0.85 - ETA: 14s - loss: 0.2834 - acc: 0.85 - ETA: 14s - loss: 0.2795 - acc: 0.86 - ETA: 13s - loss: 0.2768 - acc: 0.86 - ETA: 13s - loss: 0.2747 - acc: 0.86 - ETA: 13s - loss: 0.2717 - acc: 0.86 - ETA: 13s - loss: 0.2695 - acc: 0.86 - ETA: 13s - loss: 0.2663 - acc: 0.86 - ETA: 13s - loss: 0.2639 - acc: 0.86 - ETA: 13s - loss: 0.2610 - acc: 0.87 - ETA: 13s - loss: 0.2583 - acc: 0.87 - ETA: 13s - loss: 0.2573 - acc: 0.87 - ETA: 13s - loss: 0.2542 - acc: 0.87 - ETA: 13s - loss: 0.2515 - acc: 0.87 - ETA: 12s - loss: 0.2495 - acc: 0.87 - ETA: 12s - loss: 0.2466 - acc: 0.87 - ETA: 12s - loss: 0.2446 - acc: 0.88 - ETA: 12s - loss: 0.2420 - acc: 0.88 - ETA: 12s - loss: 0.2402 - acc: 0.88 - ETA: 12s - loss: 0.2384 - acc: 0.88 - ETA: 12s - loss: 0.2360 - acc: 0.88 - ETA: 12s - loss: 0.2346 - acc: 0.88 - ETA: 12s - loss: 0.2329 - acc: 0.88 - ETA: 12s - loss: 0.2306 - acc: 0.88 - ETA: 12s - loss: 0.2281 - acc: 0.88 - ETA: 12s - loss: 0.2257 - acc: 0.89 - ETA: 12s - loss: 0.2241 - acc: 0.89 - ETA: 11s - loss: 0.2221 - acc: 0.89 - ETA: 11s - loss: 0.2207 - acc: 0.89 - ETA: 11s - loss: 0.2201 - acc: 0.89 - ETA: 11s - loss: 0.2189 - acc: 0.89 - ETA: 11s - loss: 0.2174 - acc: 0.89 - ETA: 11s - loss: 0.2158 - acc: 0.89 - ETA: 11s - loss: 0.2146 - acc: 0.89 - ETA: 11s - loss: 0.2131 - acc: 0.89 - ETA: 11s - loss: 0.2117 - acc: 0.89 - ETA: 11s - loss: 0.2105 - acc: 0.89 - ETA: 11s - loss: 0.2092 - acc: 0.89 - ETA: 11s - loss: 0.2079 - acc: 0.89 - ETA: 11s - loss: 0.2067 - acc: 0.89 - ETA: 11s - loss: 0.2054 - acc: 0.90 - ETA: 11s - loss: 0.2039 - acc: 0.90 - ETA: 11s - loss: 0.2024 - acc: 0.90 - ETA: 10s - loss: 0.2008 - acc: 0.90 - ETA: 10s - loss: 0.1995 - acc: 0.90 - ETA: 10s - loss: 0.1985 - acc: 0.90 - ETA: 10s - loss: 0.1969 - acc: 0.90 - ETA: 10s - loss: 0.1952 - acc: 0.90 - ETA: 10s - loss: 0.1941 - acc: 0.90 - ETA: 10s - loss: 0.1924 - acc: 0.90 - ETA: 10s - loss: 0.1912 - acc: 0.90 - ETA: 10s - loss: 0.1902 - acc: 0.90 - ETA: 10s - loss: 0.1890 - acc: 0.90 - ETA: 10s - loss: 0.1877 - acc: 0.90 - ETA: 10s - loss: 0.1868 - acc: 0.91 - ETA: 10s - loss: 0.1857 - acc: 0.91 - ETA: 10s - loss: 0.1847 - acc: 0.91 - ETA: 9s - loss: 0.1836 - acc: 0.9118 - ETA: 9s - loss: 0.1826 - acc: 0.912 - ETA: 9s - loss: 0.1816 - acc: 0.912 - ETA: 9s - loss: 0.1807 - acc: 0.913 - ETA: 9s - loss: 0.1798 - acc: 0.913 - ETA: 9s - loss: 0.1788 - acc: 0.914 - ETA: 9s - loss: 0.1774 - acc: 0.914 - ETA: 9s - loss: 0.1765 - acc: 0.915 - ETA: 9s - loss: 0.1756 - acc: 0.915 - ETA: 9s - loss: 0.1746 - acc: 0.916 - ETA: 9s - loss: 0.1732 - acc: 0.917 - ETA: 9s - loss: 0.1726 - acc: 0.917 - ETA: 9s - loss: 0.1719 - acc: 0.917 - ETA: 9s - loss: 0.1706 - acc: 0.918 - ETA: 9s - loss: 0.1699 - acc: 0.918 - ETA: 9s - loss: 0.1690 - acc: 0.919 - ETA: 9s - loss: 0.1678 - acc: 0.919 - ETA: 8s - loss: 0.1669 - acc: 0.920 - ETA: 8s - loss: 0.1661 - acc: 0.920 - ETA: 8s - loss: 0.1653 - acc: 0.921 - ETA: 8s - loss: 0.1642 - acc: 0.921 - ETA: 8s - loss: 0.1634 - acc: 0.922 - ETA: 8s - loss: 0.1622 - acc: 0.922 - ETA: 8s - loss: 0.1614 - acc: 0.923 - ETA: 8s - loss: 0.1610 - acc: 0.923 - ETA: 8s - loss: 0.1606 - acc: 0.923 - ETA: 8s - loss: 0.1598 - acc: 0.924 - ETA: 8s - loss: 0.1603 - acc: 0.924 - ETA: 8s - loss: 0.1597 - acc: 0.924 - ETA: 8s - loss: 0.1592 - acc: 0.925 - ETA: 8s - loss: 0.1582 - acc: 0.925 - ETA: 8s - loss: 0.1574 - acc: 0.925 - ETA: 8s - loss: 0.1571 - acc: 0.926 - ETA: 7s - loss: 0.1564 - acc: 0.926 - ETA: 7s - loss: 0.1556 - acc: 0.927 - ETA: 7s - loss: 0.1549 - acc: 0.927 - ETA: 7s - loss: 0.1542 - acc: 0.927 - ETA: 7s - loss: 0.1536 - acc: 0.927 - ETA: 7s - loss: 0.1529 - acc: 0.928 - ETA: 7s - loss: 0.1522 - acc: 0.928 - ETA: 7s - loss: 0.1513 - acc: 0.929 - ETA: 7s - loss: 0.1506 - acc: 0.929 - ETA: 7s - loss: 0.1500 - acc: 0.929 - ETA: 7s - loss: 0.1494 - acc: 0.930 - ETA: 7s - loss: 0.1488 - acc: 0.930 - ETA: 7s - loss: 0.1478 - acc: 0.930 - ETA: 7s - loss: 0.1472 - acc: 0.931 - ETA: 7s - loss: 0.1464 - acc: 0.931 - ETA: 7s - loss: 0.1457 - acc: 0.931 - ETA: 7s - loss: 0.1453 - acc: 0.932 - ETA: 6s - loss: 0.1449 - acc: 0.932 - ETA: 6s - loss: 0.1442 - acc: 0.932 - ETA: 6s - loss: 0.1435 - acc: 0.932 - ETA: 6s - loss: 0.1427 - acc: 0.933 - ETA: 6s - loss: 0.1426 - acc: 0.933 - ETA: 6s - loss: 0.1418 - acc: 0.933 - ETA: 6s - loss: 0.1418 - acc: 0.934 - ETA: 6s - loss: 0.1409 - acc: 0.934 - ETA: 6s - loss: 0.1402 - acc: 0.934 - ETA: 6s - loss: 0.1399 - acc: 0.934 - ETA: 6s - loss: 0.1394 - acc: 0.935 - ETA: 6s - loss: 0.1389 - acc: 0.935 - ETA: 6s - loss: 0.1383 - acc: 0.935 - ETA: 6s - loss: 0.1378 - acc: 0.935 - ETA: 6s - loss: 0.1372 - acc: 0.936 - ETA: 6s - loss: 0.1367 - acc: 0.936 - ETA: 5s - loss: 0.1361 - acc: 0.936 - ETA: 5s - loss: 0.1353 - acc: 0.937 - ETA: 5s - loss: 0.1348 - acc: 0.937 - ETA: 5s - loss: 0.1343 - acc: 0.937 - ETA: 5s - loss: 0.1338 - acc: 0.937 - ETA: 5s - loss: 0.1338 - acc: 0.938 - ETA: 5s - loss: 0.1336 - acc: 0.938 - ETA: 5s - loss: 0.1332 - acc: 0.938 - ETA: 5s - loss: 0.1328 - acc: 0.938 - ETA: 5s - loss: 0.1323 - acc: 0.9389\b\b\b\b\b\b\b\b\b\b\b\b\b\b\b\b\b\b\b\b\b\b\b\b\b\b\b\b\b\b\b\b\b\b\b\b\b\b\b\b\b\b\b\b\b\b\b\b\b\b\b\b\b\b\b\b\b\b\b\b\b\b\b\b\b\b\b\b\b\b\b\b\b\b\b\b\b\b\b\b\b\b\b"
     ]
    },
    {
     "name": "stdout",
     "output_type": "stream",
     "text": [
      "23070/23070 [==============================] - ETA: 5s - loss: 0.1318 - acc: 0.939 - ETA: 5s - loss: 0.1313 - acc: 0.939 - ETA: 5s - loss: 0.1305 - acc: 0.939 - ETA: 5s - loss: 0.1298 - acc: 0.940 - ETA: 5s - loss: 0.1296 - acc: 0.940 - ETA: 5s - loss: 0.1289 - acc: 0.940 - ETA: 5s - loss: 0.1285 - acc: 0.940 - ETA: 4s - loss: 0.1279 - acc: 0.941 - ETA: 4s - loss: 0.1273 - acc: 0.941 - ETA: 4s - loss: 0.1273 - acc: 0.941 - ETA: 4s - loss: 0.1268 - acc: 0.941 - ETA: 4s - loss: 0.1265 - acc: 0.942 - ETA: 4s - loss: 0.1259 - acc: 0.942 - ETA: 4s - loss: 0.1256 - acc: 0.942 - ETA: 4s - loss: 0.1254 - acc: 0.942 - ETA: 4s - loss: 0.1248 - acc: 0.942 - ETA: 4s - loss: 0.1243 - acc: 0.943 - ETA: 4s - loss: 0.1237 - acc: 0.943 - ETA: 4s - loss: 0.1237 - acc: 0.943 - ETA: 4s - loss: 0.1233 - acc: 0.943 - ETA: 3s - loss: 0.1229 - acc: 0.944 - ETA: 3s - loss: 0.1226 - acc: 0.944 - ETA: 3s - loss: 0.1224 - acc: 0.944 - ETA: 3s - loss: 0.1224 - acc: 0.944 - ETA: 3s - loss: 0.1221 - acc: 0.944 - ETA: 3s - loss: 0.1216 - acc: 0.945 - ETA: 3s - loss: 0.1210 - acc: 0.945 - ETA: 3s - loss: 0.1208 - acc: 0.945 - ETA: 3s - loss: 0.1204 - acc: 0.945 - ETA: 3s - loss: 0.1199 - acc: 0.945 - ETA: 3s - loss: 0.1195 - acc: 0.946 - ETA: 3s - loss: 0.1189 - acc: 0.946 - ETA: 3s - loss: 0.1184 - acc: 0.946 - ETA: 3s - loss: 0.1181 - acc: 0.946 - ETA: 2s - loss: 0.1175 - acc: 0.947 - ETA: 2s - loss: 0.1170 - acc: 0.947 - ETA: 2s - loss: 0.1164 - acc: 0.947 - ETA: 2s - loss: 0.1162 - acc: 0.947 - ETA: 2s - loss: 0.1159 - acc: 0.947 - ETA: 2s - loss: 0.1158 - acc: 0.948 - ETA: 2s - loss: 0.1154 - acc: 0.948 - ETA: 2s - loss: 0.1151 - acc: 0.948 - ETA: 2s - loss: 0.1146 - acc: 0.948 - ETA: 2s - loss: 0.1140 - acc: 0.949 - ETA: 2s - loss: 0.1141 - acc: 0.949 - ETA: 2s - loss: 0.1140 - acc: 0.949 - ETA: 2s - loss: 0.1135 - acc: 0.949 - ETA: 1s - loss: 0.1131 - acc: 0.949 - ETA: 1s - loss: 0.1129 - acc: 0.949 - ETA: 1s - loss: 0.1125 - acc: 0.949 - ETA: 1s - loss: 0.1122 - acc: 0.950 - ETA: 1s - loss: 0.1118 - acc: 0.950 - ETA: 1s - loss: 0.1115 - acc: 0.950 - ETA: 1s - loss: 0.1112 - acc: 0.950 - ETA: 1s - loss: 0.1107 - acc: 0.950 - ETA: 1s - loss: 0.1105 - acc: 0.950 - ETA: 1s - loss: 0.1100 - acc: 0.951 - ETA: 1s - loss: 0.1098 - acc: 0.951 - ETA: 1s - loss: 0.1095 - acc: 0.951 - ETA: 1s - loss: 0.1092 - acc: 0.951 - ETA: 1s - loss: 0.1089 - acc: 0.951 - ETA: 1s - loss: 0.1089 - acc: 0.951 - ETA: 1s - loss: 0.1086 - acc: 0.951 - ETA: 1s - loss: 0.1082 - acc: 0.952 - ETA: 0s - loss: 0.1079 - acc: 0.952 - ETA: 0s - loss: 0.1075 - acc: 0.952 - ETA: 0s - loss: 0.1072 - acc: 0.952 - ETA: 0s - loss: 0.1070 - acc: 0.952 - ETA: 0s - loss: 0.1067 - acc: 0.952 - ETA: 0s - loss: 0.1064 - acc: 0.952 - ETA: 0s - loss: 0.1059 - acc: 0.953 - ETA: 0s - loss: 0.1056 - acc: 0.953 - ETA: 0s - loss: 0.1054 - acc: 0.953 - ETA: 0s - loss: 0.1051 - acc: 0.953 - ETA: 0s - loss: 0.1046 - acc: 0.953 - ETA: 0s - loss: 0.1045 - acc: 0.953 - ETA: 0s - loss: 0.1043 - acc: 0.953 - ETA: 0s - loss: 0.1040 - acc: 0.954 - ETA: 0s - loss: 0.1037 - acc: 0.954 - ETA: 0s - loss: 0.1033 - acc: 0.954 - ETA: 0s - loss: 0.1030 - acc: 0.954 - 18s 791us/step - loss: 0.1028 - acc: 0.9545\n",
      "Epoch 2/2\n"
     ]
    },
    {
     "name": "stdout",
     "output_type": "stream",
     "text": [
      "15712/23070 [===================>..........] - ETA: 18s - loss: 0.0750 - acc: 0.96 - ETA: 18s - loss: 0.0649 - acc: 0.97 - ETA: 17s - loss: 0.0336 - acc: 0.98 - ETA: 18s - loss: 0.0257 - acc: 0.99 - ETA: 18s - loss: 0.0214 - acc: 0.99 - ETA: 18s - loss: 0.0301 - acc: 0.99 - ETA: 18s - loss: 0.0265 - acc: 0.99 - ETA: 18s - loss: 0.0242 - acc: 0.99 - ETA: 17s - loss: 0.0216 - acc: 0.99 - ETA: 17s - loss: 0.0253 - acc: 0.99 - ETA: 17s - loss: 0.0234 - acc: 0.99 - ETA: 17s - loss: 0.0262 - acc: 0.99 - ETA: 17s - loss: 0.0252 - acc: 0.99 - ETA: 17s - loss: 0.0269 - acc: 0.99 - ETA: 17s - loss: 0.0286 - acc: 0.99 - ETA: 17s - loss: 0.0338 - acc: 0.99 - ETA: 17s - loss: 0.0318 - acc: 0.99 - ETA: 17s - loss: 0.0306 - acc: 0.99 - ETA: 17s - loss: 0.0328 - acc: 0.99 - ETA: 17s - loss: 0.0314 - acc: 0.99 - ETA: 17s - loss: 0.0303 - acc: 0.99 - ETA: 17s - loss: 0.0292 - acc: 0.99 - ETA: 17s - loss: 0.0308 - acc: 0.99 - ETA: 17s - loss: 0.0299 - acc: 0.99 - ETA: 17s - loss: 0.0285 - acc: 0.99 - ETA: 17s - loss: 0.0276 - acc: 0.99 - ETA: 17s - loss: 0.0269 - acc: 0.99 - ETA: 17s - loss: 0.0288 - acc: 0.99 - ETA: 17s - loss: 0.0280 - acc: 0.99 - ETA: 17s - loss: 0.0271 - acc: 0.99 - ETA: 17s - loss: 0.0264 - acc: 0.99 - ETA: 17s - loss: 0.0255 - acc: 0.99 - ETA: 17s - loss: 0.0249 - acc: 0.99 - ETA: 17s - loss: 0.0259 - acc: 0.99 - ETA: 16s - loss: 0.0254 - acc: 0.99 - ETA: 16s - loss: 0.0251 - acc: 0.99 - ETA: 16s - loss: 0.0246 - acc: 0.99 - ETA: 16s - loss: 0.0242 - acc: 0.99 - ETA: 16s - loss: 0.0238 - acc: 0.99 - ETA: 16s - loss: 0.0233 - acc: 0.99 - ETA: 16s - loss: 0.0227 - acc: 0.99 - ETA: 16s - loss: 0.0223 - acc: 0.99 - ETA: 16s - loss: 0.0219 - acc: 0.99 - ETA: 16s - loss: 0.0215 - acc: 0.99 - ETA: 16s - loss: 0.0210 - acc: 0.99 - ETA: 16s - loss: 0.0204 - acc: 0.99 - ETA: 16s - loss: 0.0200 - acc: 0.99 - ETA: 16s - loss: 0.0198 - acc: 0.99 - ETA: 15s - loss: 0.0195 - acc: 0.99 - ETA: 15s - loss: 0.0192 - acc: 0.99 - ETA: 15s - loss: 0.0189 - acc: 0.99 - ETA: 15s - loss: 0.0186 - acc: 0.99 - ETA: 15s - loss: 0.0184 - acc: 0.99 - ETA: 15s - loss: 0.0184 - acc: 0.99 - ETA: 15s - loss: 0.0180 - acc: 0.99 - ETA: 15s - loss: 0.0177 - acc: 0.99 - ETA: 15s - loss: 0.0175 - acc: 0.99 - ETA: 15s - loss: 0.0172 - acc: 0.99 - ETA: 15s - loss: 0.0168 - acc: 0.99 - ETA: 15s - loss: 0.0166 - acc: 0.99 - ETA: 15s - loss: 0.0164 - acc: 0.99 - ETA: 15s - loss: 0.0162 - acc: 0.99 - ETA: 15s - loss: 0.0160 - acc: 0.99 - ETA: 15s - loss: 0.0161 - acc: 0.99 - ETA: 15s - loss: 0.0160 - acc: 0.99 - ETA: 15s - loss: 0.0159 - acc: 0.99 - ETA: 15s - loss: 0.0157 - acc: 0.99 - ETA: 14s - loss: 0.0155 - acc: 0.99 - ETA: 14s - loss: 0.0164 - acc: 0.99 - ETA: 14s - loss: 0.0162 - acc: 0.99 - ETA: 14s - loss: 0.0161 - acc: 0.99 - ETA: 14s - loss: 0.0159 - acc: 0.99 - ETA: 14s - loss: 0.0156 - acc: 0.99 - ETA: 14s - loss: 0.0154 - acc: 0.99 - ETA: 14s - loss: 0.0153 - acc: 0.99 - ETA: 14s - loss: 0.0151 - acc: 0.99 - ETA: 14s - loss: 0.0154 - acc: 0.99 - ETA: 14s - loss: 0.0168 - acc: 0.99 - ETA: 14s - loss: 0.0167 - acc: 0.99 - ETA: 14s - loss: 0.0168 - acc: 0.99 - ETA: 13s - loss: 0.0166 - acc: 0.99 - ETA: 13s - loss: 0.0163 - acc: 0.99 - ETA: 13s - loss: 0.0162 - acc: 0.99 - ETA: 13s - loss: 0.0160 - acc: 0.99 - ETA: 13s - loss: 0.0159 - acc: 0.99 - ETA: 13s - loss: 0.0159 - acc: 0.99 - ETA: 13s - loss: 0.0158 - acc: 0.99 - ETA: 13s - loss: 0.0157 - acc: 0.99 - ETA: 13s - loss: 0.0155 - acc: 0.99 - ETA: 13s - loss: 0.0159 - acc: 0.99 - ETA: 13s - loss: 0.0158 - acc: 0.99 - ETA: 13s - loss: 0.0156 - acc: 0.99 - ETA: 13s - loss: 0.0154 - acc: 0.99 - ETA: 13s - loss: 0.0153 - acc: 0.99 - ETA: 13s - loss: 0.0152 - acc: 0.99 - ETA: 12s - loss: 0.0150 - acc: 0.99 - ETA: 12s - loss: 0.0155 - acc: 0.99 - ETA: 12s - loss: 0.0153 - acc: 0.99 - ETA: 12s - loss: 0.0153 - acc: 0.99 - ETA: 12s - loss: 0.0152 - acc: 0.99 - ETA: 12s - loss: 0.0153 - acc: 0.99 - ETA: 12s - loss: 0.0153 - acc: 0.99 - ETA: 12s - loss: 0.0152 - acc: 0.99 - ETA: 12s - loss: 0.0156 - acc: 0.99 - ETA: 12s - loss: 0.0156 - acc: 0.99 - ETA: 12s - loss: 0.0155 - acc: 0.99 - ETA: 12s - loss: 0.0154 - acc: 0.99 - ETA: 12s - loss: 0.0152 - acc: 0.99 - ETA: 12s - loss: 0.0158 - acc: 0.99 - ETA: 12s - loss: 0.0156 - acc: 0.99 - ETA: 11s - loss: 0.0157 - acc: 0.99 - ETA: 11s - loss: 0.0157 - acc: 0.99 - ETA: 11s - loss: 0.0161 - acc: 0.99 - ETA: 11s - loss: 0.0160 - acc: 0.99 - ETA: 11s - loss: 0.0161 - acc: 0.99 - ETA: 11s - loss: 0.0160 - acc: 0.99 - ETA: 11s - loss: 0.0159 - acc: 0.99 - ETA: 11s - loss: 0.0159 - acc: 0.99 - ETA: 11s - loss: 0.0159 - acc: 0.99 - ETA: 11s - loss: 0.0159 - acc: 0.99 - ETA: 11s - loss: 0.0158 - acc: 0.99 - ETA: 11s - loss: 0.0163 - acc: 0.99 - ETA: 11s - loss: 0.0161 - acc: 0.99 - ETA: 11s - loss: 0.0160 - acc: 0.99 - ETA: 11s - loss: 0.0163 - acc: 0.99 - ETA: 11s - loss: 0.0164 - acc: 0.99 - ETA: 11s - loss: 0.0163 - acc: 0.99 - ETA: 11s - loss: 0.0164 - acc: 0.99 - ETA: 10s - loss: 0.0163 - acc: 0.99 - ETA: 10s - loss: 0.0163 - acc: 0.99 - ETA: 10s - loss: 0.0162 - acc: 0.99 - ETA: 10s - loss: 0.0161 - acc: 0.99 - ETA: 10s - loss: 0.0164 - acc: 0.99 - ETA: 10s - loss: 0.0163 - acc: 0.99 - ETA: 10s - loss: 0.0162 - acc: 0.99 - ETA: 10s - loss: 0.0161 - acc: 0.99 - ETA: 10s - loss: 0.0161 - acc: 0.99 - ETA: 10s - loss: 0.0159 - acc: 0.99 - ETA: 10s - loss: 0.0158 - acc: 0.99 - ETA: 10s - loss: 0.0157 - acc: 0.99 - ETA: 10s - loss: 0.0156 - acc: 0.99 - ETA: 10s - loss: 0.0154 - acc: 0.99 - ETA: 10s - loss: 0.0154 - acc: 0.99 - ETA: 10s - loss: 0.0158 - acc: 0.99 - ETA: 10s - loss: 0.0157 - acc: 0.99 - ETA: 9s - loss: 0.0156 - acc: 0.9961 - ETA: 9s - loss: 0.0156 - acc: 0.996 - ETA: 9s - loss: 0.0157 - acc: 0.996 - ETA: 9s - loss: 0.0158 - acc: 0.996 - ETA: 9s - loss: 0.0159 - acc: 0.996 - ETA: 9s - loss: 0.0158 - acc: 0.996 - ETA: 9s - loss: 0.0157 - acc: 0.996 - ETA: 9s - loss: 0.0161 - acc: 0.996 - ETA: 9s - loss: 0.0160 - acc: 0.996 - ETA: 9s - loss: 0.0159 - acc: 0.996 - ETA: 9s - loss: 0.0158 - acc: 0.996 - ETA: 9s - loss: 0.0158 - acc: 0.996 - ETA: 9s - loss: 0.0157 - acc: 0.996 - ETA: 9s - loss: 0.0157 - acc: 0.996 - ETA: 9s - loss: 0.0157 - acc: 0.996 - ETA: 9s - loss: 0.0159 - acc: 0.996 - ETA: 9s - loss: 0.0158 - acc: 0.996 - ETA: 9s - loss: 0.0158 - acc: 0.996 - ETA: 8s - loss: 0.0157 - acc: 0.996 - ETA: 8s - loss: 0.0157 - acc: 0.996 - ETA: 8s - loss: 0.0156 - acc: 0.996 - ETA: 8s - loss: 0.0155 - acc: 0.996 - ETA: 8s - loss: 0.0155 - acc: 0.996 - ETA: 8s - loss: 0.0154 - acc: 0.996 - ETA: 8s - loss: 0.0155 - acc: 0.996 - ETA: 8s - loss: 0.0154 - acc: 0.996 - ETA: 8s - loss: 0.0154 - acc: 0.996 - ETA: 8s - loss: 0.0153 - acc: 0.996 - ETA: 8s - loss: 0.0152 - acc: 0.996 - ETA: 8s - loss: 0.0151 - acc: 0.996 - ETA: 8s - loss: 0.0150 - acc: 0.996 - ETA: 8s - loss: 0.0150 - acc: 0.996 - ETA: 8s - loss: 0.0149 - acc: 0.996 - ETA: 8s - loss: 0.0149 - acc: 0.996 - ETA: 8s - loss: 0.0148 - acc: 0.996 - ETA: 7s - loss: 0.0148 - acc: 0.996 - ETA: 7s - loss: 0.0147 - acc: 0.996 - ETA: 7s - loss: 0.0147 - acc: 0.996 - ETA: 7s - loss: 0.0150 - acc: 0.996 - ETA: 7s - loss: 0.0150 - acc: 0.996 - ETA: 7s - loss: 0.0149 - acc: 0.996 - ETA: 7s - loss: 0.0151 - acc: 0.996 - ETA: 7s - loss: 0.0150 - acc: 0.996 - ETA: 7s - loss: 0.0150 - acc: 0.996 - ETA: 7s - loss: 0.0151 - acc: 0.996 - ETA: 7s - loss: 0.0150 - acc: 0.996 - ETA: 7s - loss: 0.0150 - acc: 0.996 - ETA: 7s - loss: 0.0149 - acc: 0.996 - ETA: 7s - loss: 0.0148 - acc: 0.996 - ETA: 7s - loss: 0.0153 - acc: 0.996 - ETA: 7s - loss: 0.0152 - acc: 0.996 - ETA: 7s - loss: 0.0156 - acc: 0.996 - ETA: 6s - loss: 0.0156 - acc: 0.996 - ETA: 6s - loss: 0.0155 - acc: 0.996 - ETA: 6s - loss: 0.0155 - acc: 0.996 - ETA: 6s - loss: 0.0154 - acc: 0.996 - ETA: 6s - loss: 0.0153 - acc: 0.996 - ETA: 6s - loss: 0.0152 - acc: 0.996 - ETA: 6s - loss: 0.0152 - acc: 0.996 - ETA: 6s - loss: 0.0157 - acc: 0.996 - ETA: 6s - loss: 0.0157 - acc: 0.996 - ETA: 6s - loss: 0.0157 - acc: 0.996 - ETA: 6s - loss: 0.0159 - acc: 0.996 - ETA: 6s - loss: 0.0159 - acc: 0.996 - ETA: 6s - loss: 0.0158 - acc: 0.996 - ETA: 6s - loss: 0.0159 - acc: 0.996 - ETA: 6s - loss: 0.0158 - acc: 0.996 - ETA: 6s - loss: 0.0158 - acc: 0.996 - ETA: 5s - loss: 0.0157 - acc: 0.996 - ETA: 5s - loss: 0.0158 - acc: 0.9961"
     ]
    },
    {
     "name": "stdout",
     "output_type": "stream",
     "text": [
      "23070/23070 [==============================] - ETA: 5s - loss: 0.0157 - acc: 0.996 - ETA: 5s - loss: 0.0157 - acc: 0.996 - ETA: 5s - loss: 0.0157 - acc: 0.996 - ETA: 5s - loss: 0.0156 - acc: 0.996 - ETA: 5s - loss: 0.0156 - acc: 0.996 - ETA: 5s - loss: 0.0156 - acc: 0.996 - ETA: 5s - loss: 0.0156 - acc: 0.996 - ETA: 5s - loss: 0.0156 - acc: 0.996 - ETA: 5s - loss: 0.0155 - acc: 0.996 - ETA: 5s - loss: 0.0155 - acc: 0.996 - ETA: 5s - loss: 0.0155 - acc: 0.996 - ETA: 5s - loss: 0.0155 - acc: 0.996 - ETA: 4s - loss: 0.0154 - acc: 0.996 - ETA: 4s - loss: 0.0153 - acc: 0.996 - ETA: 4s - loss: 0.0152 - acc: 0.996 - ETA: 4s - loss: 0.0152 - acc: 0.996 - ETA: 4s - loss: 0.0151 - acc: 0.996 - ETA: 4s - loss: 0.0150 - acc: 0.996 - ETA: 4s - loss: 0.0150 - acc: 0.996 - ETA: 4s - loss: 0.0149 - acc: 0.996 - ETA: 4s - loss: 0.0148 - acc: 0.996 - ETA: 4s - loss: 0.0148 - acc: 0.996 - ETA: 4s - loss: 0.0147 - acc: 0.996 - ETA: 4s - loss: 0.0147 - acc: 0.996 - ETA: 4s - loss: 0.0146 - acc: 0.996 - ETA: 4s - loss: 0.0148 - acc: 0.996 - ETA: 3s - loss: 0.0148 - acc: 0.996 - ETA: 3s - loss: 0.0148 - acc: 0.996 - ETA: 3s - loss: 0.0147 - acc: 0.996 - ETA: 3s - loss: 0.0147 - acc: 0.996 - ETA: 3s - loss: 0.0146 - acc: 0.996 - ETA: 3s - loss: 0.0146 - acc: 0.996 - ETA: 3s - loss: 0.0146 - acc: 0.996 - ETA: 3s - loss: 0.0145 - acc: 0.996 - ETA: 3s - loss: 0.0145 - acc: 0.996 - ETA: 3s - loss: 0.0144 - acc: 0.996 - ETA: 3s - loss: 0.0143 - acc: 0.996 - ETA: 3s - loss: 0.0143 - acc: 0.996 - ETA: 3s - loss: 0.0142 - acc: 0.996 - ETA: 3s - loss: 0.0144 - acc: 0.996 - ETA: 3s - loss: 0.0143 - acc: 0.996 - ETA: 2s - loss: 0.0143 - acc: 0.996 - ETA: 2s - loss: 0.0143 - acc: 0.996 - ETA: 2s - loss: 0.0142 - acc: 0.996 - ETA: 2s - loss: 0.0142 - acc: 0.996 - ETA: 2s - loss: 0.0141 - acc: 0.996 - ETA: 2s - loss: 0.0141 - acc: 0.996 - ETA: 2s - loss: 0.0142 - acc: 0.996 - ETA: 2s - loss: 0.0141 - acc: 0.996 - ETA: 2s - loss: 0.0141 - acc: 0.996 - ETA: 2s - loss: 0.0141 - acc: 0.996 - ETA: 2s - loss: 0.0140 - acc: 0.996 - ETA: 2s - loss: 0.0139 - acc: 0.996 - ETA: 2s - loss: 0.0139 - acc: 0.996 - ETA: 2s - loss: 0.0139 - acc: 0.996 - ETA: 2s - loss: 0.0139 - acc: 0.996 - ETA: 2s - loss: 0.0138 - acc: 0.996 - ETA: 2s - loss: 0.0138 - acc: 0.996 - ETA: 1s - loss: 0.0138 - acc: 0.996 - ETA: 1s - loss: 0.0138 - acc: 0.996 - ETA: 1s - loss: 0.0140 - acc: 0.996 - ETA: 1s - loss: 0.0139 - acc: 0.996 - ETA: 1s - loss: 0.0139 - acc: 0.996 - ETA: 1s - loss: 0.0138 - acc: 0.996 - ETA: 1s - loss: 0.0138 - acc: 0.996 - ETA: 1s - loss: 0.0140 - acc: 0.996 - ETA: 1s - loss: 0.0140 - acc: 0.996 - ETA: 1s - loss: 0.0140 - acc: 0.996 - ETA: 1s - loss: 0.0139 - acc: 0.996 - ETA: 1s - loss: 0.0139 - acc: 0.996 - ETA: 1s - loss: 0.0139 - acc: 0.996 - ETA: 1s - loss: 0.0139 - acc: 0.996 - ETA: 1s - loss: 0.0138 - acc: 0.996 - ETA: 1s - loss: 0.0138 - acc: 0.996 - ETA: 1s - loss: 0.0137 - acc: 0.996 - ETA: 1s - loss: 0.0137 - acc: 0.996 - ETA: 1s - loss: 0.0137 - acc: 0.996 - ETA: 0s - loss: 0.0137 - acc: 0.996 - ETA: 0s - loss: 0.0137 - acc: 0.996 - ETA: 0s - loss: 0.0136 - acc: 0.996 - ETA: 0s - loss: 0.0136 - acc: 0.996 - ETA: 0s - loss: 0.0135 - acc: 0.996 - ETA: 0s - loss: 0.0135 - acc: 0.996 - ETA: 0s - loss: 0.0135 - acc: 0.996 - ETA: 0s - loss: 0.0135 - acc: 0.996 - ETA: 0s - loss: 0.0134 - acc: 0.996 - ETA: 0s - loss: 0.0134 - acc: 0.996 - ETA: 0s - loss: 0.0134 - acc: 0.996 - ETA: 0s - loss: 0.0134 - acc: 0.996 - ETA: 0s - loss: 0.0134 - acc: 0.996 - ETA: 0s - loss: 0.0134 - acc: 0.996 - ETA: 0s - loss: 0.0133 - acc: 0.996 - ETA: 0s - loss: 0.0133 - acc: 0.996 - ETA: 0s - loss: 0.0133 - acc: 0.996 - ETA: 0s - loss: 0.0132 - acc: 0.996 - ETA: 0s - loss: 0.0132 - acc: 0.996 - 18s 796us/step - loss: 0.0132 - acc: 0.9967\n"
     ]
    },
    {
     "data": {
      "text/plain": [
       "<keras.callbacks.History at 0x241802254a8>"
      ]
     },
     "execution_count": 47,
     "metadata": {},
     "output_type": "execute_result"
    }
   ],
   "source": [
    "model.fit(X, y, epochs=2, batch_size=32,\n",
    "          shuffle=True,\n",
    "          class_weight=class_weight)"
   ]
  },
  {
   "cell_type": "code",
   "execution_count": 52,
   "metadata": {},
   "outputs": [],
   "source": [
    "model_yaml = model.to_yaml()\n",
    "with open('mfcc.yaml', 'w') as yaml_file:\n",
    "    yaml_file.write(model_yaml)\n",
    "model.save_weights('mfcc.h5')"
   ]
  },
  {
   "cell_type": "code",
   "execution_count": 51,
   "metadata": {},
   "outputs": [
    {
     "data": {
      "text/plain": [
       "array([[0., 1.],\n",
       "       [0., 1.],\n",
       "       [0., 1.],\n",
       "       ...,\n",
       "       [1., 0.],\n",
       "       [1., 0.],\n",
       "       [1., 0.]], dtype=float32)"
      ]
     },
     "execution_count": 51,
     "metadata": {},
     "output_type": "execute_result"
    }
   ],
   "source": [
    "y"
   ]
  },
  {
   "cell_type": "code",
   "execution_count": 52,
   "metadata": {},
   "outputs": [
    {
     "data": {
      "text/plain": [
       "array([[3.7401915e-05, 2.6598203e-01],\n",
       "       [3.3646822e-05, 2.4973902e-01],\n",
       "       [1.7374754e-05, 3.7783152e-01],\n",
       "       ...,\n",
       "       [9.9976891e-01, 0.0000000e+00],\n",
       "       [9.9533075e-01, 0.0000000e+00],\n",
       "       [9.9991906e-01, 0.0000000e+00]], dtype=float32)"
      ]
     },
     "execution_count": 52,
     "metadata": {},
     "output_type": "execute_result"
    }
   ],
   "source": [
    "model.predict(X)"
   ]
  }
 ],
 "metadata": {
  "kernelspec": {
   "display_name": "Python 3",
   "language": "python",
   "name": "python3"
  },
  "language_info": {
   "codemirror_mode": {
    "name": "ipython",
    "version": 3
   },
   "file_extension": ".py",
   "mimetype": "text/x-python",
   "name": "python",
   "nbconvert_exporter": "python",
   "pygments_lexer": "ipython3",
   "version": "3.7.3"
  }
 },
 "nbformat": 4,
 "nbformat_minor": 2
}
